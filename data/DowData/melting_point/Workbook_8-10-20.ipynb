{
 "cells": [
  {
   "cell_type": "code",
   "execution_count": 1,
   "metadata": {},
   "outputs": [],
   "source": [
    "import numpy as np\n",
    "import seaborn as sns\n",
    "import pandas as pd\n",
    "import matplotlib as mpl\n",
    "import matplotlib.pyplot as plt\n",
    "import matplotlib.gridspec as gridspec\n",
    "import torch\n",
    "import sys\n",
    "import os\n",
    "from rdkit import Chem"
   ]
  },
  {
   "cell_type": "code",
   "execution_count": 2,
   "metadata": {},
   "outputs": [],
   "source": [
    "data = pd.read_csv('combined_temp.csv')"
   ]
  },
  {
   "cell_type": "code",
   "execution_count": 27,
   "metadata": {},
   "outputs": [],
   "source": [
    "data[['smiles','T_single']].rename(columns={'smiles':'SMILES','T_single':'MP'}).to_csv('combined_temp_v2.csv',index=False)"
   ]
  },
  {
   "cell_type": "code",
   "execution_count": 12,
   "metadata": {},
   "outputs": [
    {
     "data": {
      "text/html": [
       "<div>\n",
       "<style scoped>\n",
       "    .dataframe tbody tr th:only-of-type {\n",
       "        vertical-align: middle;\n",
       "    }\n",
       "\n",
       "    .dataframe tbody tr th {\n",
       "        vertical-align: top;\n",
       "    }\n",
       "\n",
       "    .dataframe thead th {\n",
       "        text-align: right;\n",
       "    }\n",
       "</style>\n",
       "<table border=\"1\" class=\"dataframe\">\n",
       "  <thead>\n",
       "    <tr style=\"text-align: right;\">\n",
       "      <th></th>\n",
       "      <th>smiles</th>\n",
       "      <th>Tm[K]</th>\n",
       "    </tr>\n",
       "  </thead>\n",
       "  <tbody>\n",
       "    <tr>\n",
       "      <th>0</th>\n",
       "      <td>O.NC1=NC=NC2=C1N=C(Cl)N2C1OC(CO)C(O)C1O.NC1=NC...</td>\n",
       "      <td>433.15</td>\n",
       "    </tr>\n",
       "    <tr>\n",
       "      <th>1</th>\n",
       "      <td>OCCNC(=O)C1=CC(=CC=C1)C1=CC=C2C=CN(C2=C1)C1=C(...</td>\n",
       "      <td>436.65</td>\n",
       "    </tr>\n",
       "    <tr>\n",
       "      <th>2</th>\n",
       "      <td>COC1=CC=C(C=C1)C1=C(N=C(N1)SC1=CC(Cl)=C(Cl)C=C...</td>\n",
       "      <td>387.15</td>\n",
       "    </tr>\n",
       "    <tr>\n",
       "      <th>3</th>\n",
       "      <td>COC1=CC=CC(CN2C(=O)N(CC3=CC=CC=C3)C3=CC(Cl)=CC...</td>\n",
       "      <td>380.15</td>\n",
       "    </tr>\n",
       "    <tr>\n",
       "      <th>4</th>\n",
       "      <td>COC1=CC=C(CN2C(=O)N(CC3=CC=CC=C3)C3=CC(Cl)=CC(...</td>\n",
       "      <td>413.65</td>\n",
       "    </tr>\n",
       "    <tr>\n",
       "      <th>...</th>\n",
       "      <td>...</td>\n",
       "      <td>...</td>\n",
       "    </tr>\n",
       "    <tr>\n",
       "      <th>273399</th>\n",
       "      <td>COc1cc(ccc1O)C(=O)OCC</td>\n",
       "      <td>317.15, 317.15, 317.15, 317.15, 317.15, 317.15...</td>\n",
       "    </tr>\n",
       "    <tr>\n",
       "      <th>273400</th>\n",
       "      <td>CC(C)Nc1ccccc1</td>\n",
       "      <td>263.15, 241.15, 263.15, 263.15, 263.15, 263.15...</td>\n",
       "    </tr>\n",
       "    <tr>\n",
       "      <th>273401</th>\n",
       "      <td>FC(F)(F)C(F)(F)C(F)(F)C(F)(F)C(F)(F)C(F)(F)C(F...</td>\n",
       "      <td>332.65, 355.65, 355.65, 355.65</td>\n",
       "    </tr>\n",
       "    <tr>\n",
       "      <th>273402</th>\n",
       "      <td>COC1=CC=C(C=C1)[C@@H]1SC2=CC=CC=C2N(CCN(C)C)C(...</td>\n",
       "      <td>481.15, 504.15, 504.15, 504.15</td>\n",
       "    </tr>\n",
       "    <tr>\n",
       "      <th>273403</th>\n",
       "      <td>N[C@@H](CCCNC(N)=N)C(O)=O</td>\n",
       "      <td>494.15, 494.15, 494.15, 517.15</td>\n",
       "    </tr>\n",
       "  </tbody>\n",
       "</table>\n",
       "<p>273404 rows × 2 columns</p>\n",
       "</div>"
      ],
      "text/plain": [
       "                                                   smiles  \\\n",
       "0       O.NC1=NC=NC2=C1N=C(Cl)N2C1OC(CO)C(O)C1O.NC1=NC...   \n",
       "1       OCCNC(=O)C1=CC(=CC=C1)C1=CC=C2C=CN(C2=C1)C1=C(...   \n",
       "2       COC1=CC=C(C=C1)C1=C(N=C(N1)SC1=CC(Cl)=C(Cl)C=C...   \n",
       "3       COC1=CC=CC(CN2C(=O)N(CC3=CC=CC=C3)C3=CC(Cl)=CC...   \n",
       "4       COC1=CC=C(CN2C(=O)N(CC3=CC=CC=C3)C3=CC(Cl)=CC(...   \n",
       "...                                                   ...   \n",
       "273399                              COc1cc(ccc1O)C(=O)OCC   \n",
       "273400                                     CC(C)Nc1ccccc1   \n",
       "273401  FC(F)(F)C(F)(F)C(F)(F)C(F)(F)C(F)(F)C(F)(F)C(F...   \n",
       "273402  COC1=CC=C(C=C1)[C@@H]1SC2=CC=CC=C2N(CCN(C)C)C(...   \n",
       "273403                          N[C@@H](CCCNC(N)=N)C(O)=O   \n",
       "\n",
       "                                                    Tm[K]  \n",
       "0                                                  433.15  \n",
       "1                                                  436.65  \n",
       "2                                                  387.15  \n",
       "3                                                  380.15  \n",
       "4                                                  413.65  \n",
       "...                                                   ...  \n",
       "273399  317.15, 317.15, 317.15, 317.15, 317.15, 317.15...  \n",
       "273400  263.15, 241.15, 263.15, 263.15, 263.15, 263.15...  \n",
       "273401                     332.65, 355.65, 355.65, 355.65  \n",
       "273402                     481.15, 504.15, 504.15, 504.15  \n",
       "273403                     494.15, 494.15, 494.15, 517.15  \n",
       "\n",
       "[273404 rows x 2 columns]"
      ]
     },
     "execution_count": 12,
     "metadata": {},
     "output_type": "execute_result"
    }
   ],
   "source": [
    "data[['smiles','Tm[K]']]"
   ]
  },
  {
   "cell_type": "code",
   "execution_count": 22,
   "metadata": {},
   "outputs": [
    {
     "data": {
      "text/plain": [
       "436.65"
      ]
     },
     "execution_count": 22,
     "metadata": {},
     "output_type": "execute_result"
    }
   ],
   "source": [
    "np.mean([float(x) for x in data['Tm[K]'].iloc[1].split(',')])"
   ]
  },
  {
   "cell_type": "code",
   "execution_count": 23,
   "metadata": {},
   "outputs": [],
   "source": [
    "def convert_to_single_value(temp_list):\n",
    "    return np.mean([float(x) for x in temp_list.split(',')])"
   ]
  },
  {
   "cell_type": "code",
   "execution_count": 24,
   "metadata": {},
   "outputs": [],
   "source": [
    "data['T_single'] =data['Tm[K]'].apply(convert_to_single_value)"
   ]
  },
  {
   "cell_type": "code",
   "execution_count": 25,
   "metadata": {},
   "outputs": [
    {
     "data": {
      "text/plain": [
       "0         433.150000\n",
       "1         436.650000\n",
       "2         387.150000\n",
       "3         380.150000\n",
       "4         413.650000\n",
       "             ...    \n",
       "273399    320.450000\n",
       "273400    256.864286\n",
       "273401    349.900000\n",
       "273402    498.400000\n",
       "273403    499.900000\n",
       "Name: T_single, Length: 273404, dtype: float64"
      ]
     },
     "execution_count": 25,
     "metadata": {},
     "output_type": "execute_result"
    }
   ],
   "source": [
    "data['T_single']"
   ]
  },
  {
   "cell_type": "code",
   "execution_count": null,
   "metadata": {},
   "outputs": [],
   "source": []
  }
 ],
 "metadata": {
  "kernelspec": {
   "display_name": "Python 3",
   "language": "python",
   "name": "python3"
  },
  "language_info": {
   "codemirror_mode": {
    "name": "ipython",
    "version": 3
   },
   "file_extension": ".py",
   "mimetype": "text/x-python",
   "name": "python",
   "nbconvert_exporter": "python",
   "pygments_lexer": "ipython3",
   "version": "3.7.7"
  }
 },
 "nbformat": 4,
 "nbformat_minor": 4
}
