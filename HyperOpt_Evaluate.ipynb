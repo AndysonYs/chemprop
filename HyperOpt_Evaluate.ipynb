{
 "cells": [
  {
   "cell_type": "code",
   "execution_count": 73,
   "metadata": {},
   "outputs": [],
   "source": [
    "import numpy as np\n",
    "import seaborn as sns\n",
    "import pandas as pd\n",
    "import matplotlib as mpl\n",
    "import matplotlib.pyplot as plt\n",
    "import matplotlib.gridspec as gridspec\n",
    "import torch\n",
    "import sys\n",
    "import os\n",
    "from rdkit import Chem\n",
    "from rdkit import DataStructs\n",
    "from os import walk"
   ]
  },
  {
   "cell_type": "code",
   "execution_count": 74,
   "metadata": {},
   "outputs": [],
   "source": [
    "path='checkpoints/NoFeat_OneMol/sol_hyperopt-1597341177'"
   ]
  },
  {
   "cell_type": "code",
   "execution_count": 75,
   "metadata": {},
   "outputs": [
    {
     "name": "stdout",
     "output_type": "stream",
     "text": [
      "checkpoints/NoFeat_OneMol/sol_hyperopt-1597341177/depth_5_dropout_0.25_ffn_num_layers_1_hidden_size_1700\n",
      "checkpoints/NoFeat_OneMol/sol_hyperopt-1597341177/depth_4_dropout_0.2_ffn_num_layers_3_hidden_size_600\n",
      "checkpoints/NoFeat_OneMol/sol_hyperopt-1597341177/depth_6_dropout_0.35000000000000003_ffn_num_layers_1_hidden_size_1100\n",
      "checkpoints/NoFeat_OneMol/sol_hyperopt-1597341177/depth_3_dropout_0.05_ffn_num_layers_2_hidden_size_1400\n",
      "checkpoints/NoFeat_OneMol/sol_hyperopt-1597341177/depth_4_dropout_0.25_ffn_num_layers_2_hidden_size_500\n",
      "checkpoints/NoFeat_OneMol/sol_hyperopt-1597341177/depth_6_dropout_0.30000000000000004_ffn_num_layers_3_hidden_size_500\n",
      "checkpoints/NoFeat_OneMol/sol_hyperopt-1597341177/depth_3_dropout_0.15000000000000002_ffn_num_layers_1_hidden_size_1400\n",
      "checkpoints/NoFeat_OneMol/sol_hyperopt-1597341177/depth_2_dropout_0.0_ffn_num_layers_3_hidden_size_2400\n",
      "checkpoints/NoFeat_OneMol/sol_hyperopt-1597341177/depth_6_dropout_0.05_ffn_num_layers_2_hidden_size_1800\n",
      "checkpoints/NoFeat_OneMol/sol_hyperopt-1597341177/depth_5_dropout_0.25_ffn_num_layers_2_hidden_size_1400\n",
      "checkpoints/NoFeat_OneMol/sol_hyperopt-1597341177/depth_2_dropout_0.30000000000000004_ffn_num_layers_2_hidden_size_1400\n",
      "checkpoints/NoFeat_OneMol/sol_hyperopt-1597341177/depth_5_dropout_0.1_ffn_num_layers_2_hidden_size_1100\n",
      "checkpoints/NoFeat_OneMol/sol_hyperopt-1597341177/depth_5_dropout_0.05_ffn_num_layers_1_hidden_size_900\n",
      "checkpoints/NoFeat_OneMol/sol_hyperopt-1597341177/depth_3_dropout_0.1_ffn_num_layers_2_hidden_size_1300\n",
      "checkpoints/NoFeat_OneMol/sol_hyperopt-1597341177/depth_4_dropout_0.25_ffn_num_layers_1_hidden_size_1500\n",
      "checkpoints/NoFeat_OneMol/sol_hyperopt-1597341177/depth_4_dropout_0.30000000000000004_ffn_num_layers_3_hidden_size_2100\n",
      "checkpoints/NoFeat_OneMol/sol_hyperopt-1597341177/depth_3_dropout_0.4_ffn_num_layers_2_hidden_size_1300\n",
      "checkpoints/NoFeat_OneMol/sol_hyperopt-1597341177/depth_3_dropout_0.30000000000000004_ffn_num_layers_1_hidden_size_800\n",
      "checkpoints/NoFeat_OneMol/sol_hyperopt-1597341177/depth_3_dropout_0.15000000000000002_ffn_num_layers_3_hidden_size_2300\n",
      "checkpoints/NoFeat_OneMol/sol_hyperopt-1597341177/depth_4_dropout_0.35000000000000003_ffn_num_layers_3_hidden_size_800\n"
     ]
    }
   ],
   "source": [
    "test_data = pd.DataFrame()\n",
    "for folder in os.listdir(path):\n",
    "    path_hyp = os.path.join(path,folder)\n",
    "    print(path_hyp)\n",
    "    test_hyp = pd.read_csv(os.path.join(path_hyp,'test_scores.csv'))\n",
    "    test_hyp['Folder']=folder\n",
    "    test_data = pd.concat((test_data,test_hyp))"
   ]
  },
  {
   "cell_type": "code",
   "execution_count": 76,
   "metadata": {},
   "outputs": [],
   "source": [
    "best_hyp = test_data[test_data['Mean rmse']==min(test_data['Mean rmse'])]"
   ]
  },
  {
   "cell_type": "code",
   "execution_count": 81,
   "metadata": {},
   "outputs": [
    {
     "data": {
      "text/plain": [
       "'depth_3_dropout_0.1_ffn_num_layers_2_hidden_size_1300'"
      ]
     },
     "execution_count": 81,
     "metadata": {},
     "output_type": "execute_result"
    }
   ],
   "source": [
    "best_hyp['Folder'].values[0]"
   ]
  },
  {
   "cell_type": "code",
   "execution_count": 82,
   "metadata": {},
   "outputs": [
    {
     "data": {
      "text/html": [
       "<div>\n",
       "<style scoped>\n",
       "    .dataframe tbody tr th:only-of-type {\n",
       "        vertical-align: middle;\n",
       "    }\n",
       "\n",
       "    .dataframe tbody tr th {\n",
       "        vertical-align: top;\n",
       "    }\n",
       "\n",
       "    .dataframe thead th {\n",
       "        text-align: right;\n",
       "    }\n",
       "</style>\n",
       "<table border=\"1\" class=\"dataframe\">\n",
       "  <thead>\n",
       "    <tr style=\"text-align: right;\">\n",
       "      <th></th>\n",
       "      <th>Task</th>\n",
       "      <th>Mean rmse</th>\n",
       "      <th>Standard deviation rmse</th>\n",
       "      <th>Fold 0 rmse</th>\n",
       "      <th>Fold 1 rmse</th>\n",
       "      <th>Fold 2 rmse</th>\n",
       "      <th>Fold 3 rmse</th>\n",
       "      <th>Fold 4 rmse</th>\n",
       "      <th>Fold 5 rmse</th>\n",
       "      <th>Fold 6 rmse</th>\n",
       "      <th>Fold 7 rmse</th>\n",
       "      <th>Fold 8 rmse</th>\n",
       "      <th>Fold 9 rmse</th>\n",
       "      <th>Folder</th>\n",
       "    </tr>\n",
       "  </thead>\n",
       "  <tbody>\n",
       "    <tr>\n",
       "      <th>0</th>\n",
       "      <td>Solubility</td>\n",
       "      <td>1.070525</td>\n",
       "      <td>0.074382</td>\n",
       "      <td>1.132789</td>\n",
       "      <td>0.919556</td>\n",
       "      <td>1.102006</td>\n",
       "      <td>1.156137</td>\n",
       "      <td>1.088607</td>\n",
       "      <td>0.975199</td>\n",
       "      <td>1.075515</td>\n",
       "      <td>1.021998</td>\n",
       "      <td>1.162959</td>\n",
       "      <td>1.070486</td>\n",
       "      <td>depth_3_dropout_0.1_ffn_num_layers_2_hidden_si...</td>\n",
       "    </tr>\n",
       "  </tbody>\n",
       "</table>\n",
       "</div>"
      ],
      "text/plain": [
       "         Task  Mean rmse  Standard deviation rmse  Fold 0 rmse  Fold 1 rmse  \\\n",
       "0  Solubility   1.070525                 0.074382     1.132789     0.919556   \n",
       "\n",
       "   Fold 2 rmse  Fold 3 rmse  Fold 4 rmse  Fold 5 rmse  Fold 6 rmse  \\\n",
       "0     1.102006     1.156137     1.088607     0.975199     1.075515   \n",
       "\n",
       "   Fold 7 rmse  Fold 8 rmse  Fold 9 rmse  \\\n",
       "0     1.021998     1.162959     1.070486   \n",
       "\n",
       "                                              Folder  \n",
       "0  depth_3_dropout_0.1_ffn_num_layers_2_hidden_si...  "
      ]
     },
     "execution_count": 82,
     "metadata": {},
     "output_type": "execute_result"
    }
   ],
   "source": [
    "best_hyp"
   ]
  },
  {
   "cell_type": "code",
   "execution_count": null,
   "metadata": {},
   "outputs": [],
   "source": []
  },
  {
   "cell_type": "code",
   "execution_count": null,
   "metadata": {},
   "outputs": [],
   "source": []
  },
  {
   "cell_type": "code",
   "execution_count": null,
   "metadata": {},
   "outputs": [],
   "source": []
  }
 ],
 "metadata": {
  "kernelspec": {
   "display_name": "Python 3",
   "language": "python",
   "name": "python3"
  },
  "language_info": {
   "codemirror_mode": {
    "name": "ipython",
    "version": 3
   },
   "file_extension": ".py",
   "mimetype": "text/x-python",
   "name": "python",
   "nbconvert_exporter": "python",
   "pygments_lexer": "ipython3",
   "version": "3.7.7"
  }
 },
 "nbformat": 4,
 "nbformat_minor": 4
}
